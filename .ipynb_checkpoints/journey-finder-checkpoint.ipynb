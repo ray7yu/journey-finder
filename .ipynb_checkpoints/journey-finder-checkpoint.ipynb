{
 "cells": [
  {
   "cell_type": "code",
   "execution_count": 75,
   "metadata": {},
   "outputs": [
    {
     "name": "stdout",
     "output_type": "stream",
     "text": [
      "['/Attraction_Review-g60898-d104713-Reviews-Atlanta_Botanical_Garden-Atlanta_Georgia.html', '/Attraction_Review-g60898-d104713-Reviews-Atlanta_Botanical_Garden-Atlanta_Georgia.html#REVIEWS']\n",
      "1. Atlanta Botanical Garden4,957 reviewsSee 2 Experiences\n",
      "\n",
      "2. Georgia Aquarium22,929 reviewsSee 8 Experiences\n",
      "\n",
      "3. Martin Luther King Jr. National Historic Site3,421 reviewsSee 20 Experiences\n",
      "\n",
      "4. National Center for Civil and Human Rights2,095 reviewsAdmission ticket from $21.77See 5 Experiences\n",
      "\n",
      "5. Piedmont Park2,353 reviewsSee 5 Experiences\n",
      "\n",
      "6. LEGOLAND Discovery Center1,323 reviewsAdmission ticket from $24.99See 1 Experience\n",
      "\n",
      "7. Atlanta History Center1,401 reviewsSee 6 Experiences\n",
      "\n",
      "8. World of Coca-Cola14,048 reviewsAdmission ticket from $19.60See 10 Experiences\n",
      "\n",
      "9. Mercedes Benz Stadium721 reviewsSee 14 Experiences\n",
      "\n",
      "10. Zoo Atlanta3,568 reviewsSee 1 Experience\n",
      "\n"
     ]
    }
   ],
   "source": [
    "import bs4, requests\n",
    "\n",
    "def getDestinations(productURL):\n",
    "    headers = {\n",
    "        'User-Agent': 'Mozilla/5.0 (Windows NT 6.1) AppleWebKit/537.36 (KHTML, like Gecko) Chrome/41.0.2228.0 Safari/537.36',\n",
    "    }\n",
    "    res = requests.get(productURL)\n",
    "    res.raise_for_status()\n",
    "\n",
    "    soup = bs4.BeautifulSoup(res.text, 'html.parser')\n",
    "    first10 = soup.find_all(\"div\", class_=\"attractions-attraction-overview-pois-PoiInfo__info--239IR\")\n",
    "    linksText = []\n",
    "    links = first10[0].find_all('a', href=True)\n",
    "    for l in links:\n",
    "        if l.text:\n",
    "            linksText.append(l['href'])\n",
    "    print(linksText)\n",
    "    first10 = [element.text.strip() for element in first10]\n",
    "    return first10\n",
    "\n",
    "first10 = getDestinations(\"https://www.tripadvisor.com/Attractions-g60898-Activities-Atlanta_Georgia.html\")\n",
    "for i in first10:\n",
    "    print(i + '\\n')\n"
   ]
  },
  {
   "cell_type": "code",
   "execution_count": 22,
   "metadata": {},
   "outputs": [
    {
     "data": {
      "text/plain": [
       "1"
      ]
     },
     "execution_count": 22,
     "metadata": {},
     "output_type": "execute_result"
    }
   ],
   "source": [
    "len(places)"
   ]
  },
  {
   "cell_type": "code",
   "execution_count": null,
   "metadata": {},
   "outputs": [],
   "source": []
  }
 ],
 "metadata": {
  "kernelspec": {
   "display_name": "Python 3",
   "language": "python",
   "name": "python3"
  },
  "language_info": {
   "codemirror_mode": {
    "name": "ipython",
    "version": 3
   },
   "file_extension": ".py",
   "mimetype": "text/x-python",
   "name": "python",
   "nbconvert_exporter": "python",
   "pygments_lexer": "ipython3",
   "version": "3.7.6"
  }
 },
 "nbformat": 4,
 "nbformat_minor": 4
}
